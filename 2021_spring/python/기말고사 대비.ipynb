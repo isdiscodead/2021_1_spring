{
 "cells": [
  {
   "cell_type": "markdown",
   "metadata": {},
   "source": [
    "## 리스트와 딕셔너리"
   ]
  },
  {
   "cell_type": "code",
   "execution_count": 56,
   "metadata": {},
   "outputs": [
    {
     "name": "stdout",
     "output_type": "stream",
     "text": [
      "['아이언맨', '토르', '헐크', '블랙위도우', '앤트맨', '스파이더맨', '아이언맨']\n",
      "['아이언맨', '토르', '앤트맨', '스파이더맨', '아이언맨']\n",
      "['아이언맨', '토르']\n",
      "['아이언맨', '토르', '앤트맨', '스파이더맨', '아이언맨']\n",
      "아이언맨\n",
      "['아이언맨', '토르', '앤트맨', '스파이더맨']\n"
     ]
    }
   ],
   "source": [
    "# 리스트는 여러 개의 데이터를 하나로 묶어서 저장 ( 데이터형 상관 X )\n",
    "heroes = [] \n",
    "heroes = [\"아이언맨\", \"토르\", \"헐크\", \"블랙위도우\", \"앤트맨\", \"스파이더맨\"] \n",
    "\n",
    "heroes.append(\"아이언맨\") # 원소 추가는 .append()\n",
    "print(heroes)\n",
    "\n",
    "del heroes[2] # del은 인덱스로 삭제\n",
    "heroes.remove(\"블랙위도우\") # remove()는 값으로 삭제\n",
    "print(heroes)\n",
    "\n",
    "heroes[0] # 인덱스로 접근\n",
    "print(heroes[0:2]) # 슬라이싱 [시작:끝] -> 생략시 각각 처음과 마지막\n",
    "print(heroes)\n",
    "\n",
    "print(heroes.pop()) # pop은 제일 마지막 원소 반환 후 삭제 \n",
    "print(heroes)"
   ]
  },
  {
   "cell_type": "markdown",
   "metadata": {},
   "source": [
    "## Matplotlib 사용"
   ]
  },
  {
   "cell_type": "code",
   "execution_count": 28,
   "metadata": {},
   "outputs": [
    {
     "data": {
      "image/png": "[encoded data removed]",
      "text/plain": [
       "<Figure size 432x288 with 1 Axes>"
      ]
     },
     "metadata": {
      "needs_background": "light"
     },
     "output_type": "display_data"
    }
   ],
   "source": [
    "import matplotlib.pyplot as plt\n",
    "import numpy as np\n",
    "import random as rand\n",
    "\n",
    "plt.figure()\n",
    "plt.plot([1,2,3],[1,2,3], color=\"red\", label=\"line\")\n",
    "plt.legend()\n",
    "plt.title(\"title\")\n",
    "plt.xlabel(\"xlabel\")\n",
    "plt.ylabel(\"ylabel\")\n",
    "plt.show()"
   ]
  },
  {
   "cell_type": "code",
   "execution_count": 26,
   "metadata": {},
   "outputs": [
    {
     "data": {
      "image/png": "[encoded data removed]",
      "text/plain": [
       "<Figure size 432x288 with 1 Axes>"
      ]
     },
     "metadata": {
      "needs_background": "light"
     },
     "output_type": "display_data"
    }
   ],
   "source": [
    "# 원본 함수 반환 ( array 이용 )\n",
    "def func_(x) :\n",
    "    return 3*x**2 + 2*x\n",
    "\n",
    "# 미분 값 반환 ( ndarray 이용 -> array는 한 번에 계산 가능 )\n",
    "def differentiation(x, dx) :\n",
    "    y_dx = func_(x+dx) # f(x+dx)\n",
    "    y = func_(x) # f(x)\n",
    "    gradient = (y_dx - y) / dx\n",
    "    return gradient \n",
    "\n",
    "# 리스트 x_dx를 받아 함수값 리스트 반환\n",
    "def func_2(x, dx) : \n",
    "    return [ func_(i+dx) for i in x ]\n",
    "    \n",
    "# 미분 값 반환 ( list 이용 )\n",
    "def differentiation2(x, dx) :\n",
    "    y_dx = func_2(x, dx)\n",
    "    y_i = func_2(x, 0) # f(x)\n",
    "    gradient = [ (y_dx[i] - y_i[i]) / dx for i in range(len(y_dx))] \n",
    "    return gradient\n",
    "\n",
    "a=-10\n",
    "b=10\n",
    "c=40 # -10 ~ 10 : 40개(0~39)\n",
    "dx = (b-a)/(c-1)\n",
    "\n",
    "x = np.linspace(a, b, c) # numpy.ndarray\n",
    "x_ = [a + i*dx for i in range(c)] # list\n",
    "\n",
    "y_g = differentiation(x, dx) # numpy.ndarray\n",
    "y_g_ = differentiation2(x_, dx) # list \n",
    "\n",
    "plt.figure()\n",
    "plt.plot(x, y_g, 'bs', label=\"6x + 2\")\n",
    "plt.plot(x_, y_g_, 'r--', label=\"6x + 2\")\n",
    "plt.xlabel(\"x axis\")\n",
    "plt.ylabel(\"y axis\")\n",
    "plt.legend(loc=\"upper right\")\n",
    "plt.show()"
   ]
  },
  {
   "cell_type": "markdown",
   "metadata": {},
   "source": [
    "## 리스트 함축\n",
    "표현식 for i in old_list if filter(i)"
   ]
  },
  {
   "cell_type": "code",
   "execution_count": 36,
   "metadata": {},
   "outputs": [
    {
     "name": "stdout",
     "output_type": "stream",
     "text": [
      "[1, 4, 9, 16, 25, 36, 49, 64, 81]\n",
      "[1, 4, 9, 16, 25, 36, 49, 64, 81]\n",
      "[26, 8, 47, 61, 62, 86, 11, 49, 27, 92, 56, 56, 84, 56, 46, 10, 4, 50, 57, 80]\n",
      "[26, 66, 91, 46, 72, 48, 80, 11, 59, 23, 16, 31, 56, 82, 31, 18, 35, 63, 99, 50]\n",
      "[66, 72, 48, 18, 63, 99]\n",
      "[26, 91, 46, 11, 59, 23, 16, 31, 56, 82, 31]\n"
     ]
    }
   ],
   "source": [
    "# 1~9까지 수의 제곱을 가지는 리스트 \n",
    "mylist = [] \n",
    "for x in range(1, 10): \n",
    "\tmylist.append(x*x)\n",
    "print(mylist)\n",
    "\n",
    "mylist = [x*x for x in range(1, 10)] \n",
    "print(mylist)\n",
    "\n",
    "\n",
    "# 0 ~ 99 사이의 랜덤 수 20개를 만드는 리스트\n",
    "randlist = [] \n",
    "for x in range(20): \n",
    "\trandlist.append(rand.randrange(100))\n",
    "print(randlist)\n",
    "    \n",
    "randlist = [rand.randrange(100) for i in range(20)]\n",
    "print(randlist)\n",
    "\n",
    "# filter 사용 \n",
    "# randlist에서 3의 배수만 가지는 리스트 \n",
    "multiple3 = [i for i in randlist if i % 3 == 0] \n",
    "print(multiple3)\n",
    "\n",
    "# 3이나 5로 나누어지지 않는 숫자의 리스트 \n",
    "not_divide_3or5 = [i for i in randlist if i % 3 != 0 and i % 5 != 0]\n",
    "print(not_divide_3or5)\n"
   ]
  },
  {
   "cell_type": "markdown",
   "metadata": {},
   "source": [
    "## lambda 함수 ( 무명 함수 )\n",
    "lambda 인수1, 인수2 : 수식"
   ]
  },
  {
   "cell_type": "code",
   "execution_count": 48,
   "metadata": {},
   "outputs": [
    {
     "name": "stdout",
     "output_type": "stream",
     "text": [
      "[0, 1, 2, 3, 4]\n",
      "25\n",
      "[0, 1, 4, 9, 16]\n"
     ]
    }
   ],
   "source": [
    "ex1 = list(filter(lambda x: x < 5, range(10)))\n",
    "print(ex1)\n",
    "\n",
    "ex2 = (lambda x: x*x)(5)\n",
    "print(ex2)\n",
    "\n",
    "# map( 함수, 리스트 ) -> 함수와 리스트를 받아 새로운 map 생성 -> list로 변환 가능\n",
    "ex3 = list(map(lambda x: x ** 2, range(5)))\n",
    "print(ex3)"
   ]
  }
 ],
 "metadata": {
  "kernelspec": {
   "display_name": "Python 3",
   "language": "python",
   "name": "python3"
  },
  "language_info": {
   "codemirror_mode": {
    "name": "ipython",
    "version": 3
   },
   "file_extension": ".py",
   "mimetype": "text/x-python",
   "name": "python",
   "nbconvert_exporter": "python",
   "pygments_lexer": "ipython3",
   "version": "3.8.5"
  }
 },
 "nbformat": 4,
 "nbformat_minor": 4
}
